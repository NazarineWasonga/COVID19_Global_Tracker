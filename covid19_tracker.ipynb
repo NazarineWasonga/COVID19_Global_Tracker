import pandas as pd
import matplotlib.pyplot as plt
import seaborn as sns

OWID_URL = "https://covid.ourworldindata.org/data/owid-covid-data.csv"
LOCAL_SAMPLE = "data/sample_covid.csv"
